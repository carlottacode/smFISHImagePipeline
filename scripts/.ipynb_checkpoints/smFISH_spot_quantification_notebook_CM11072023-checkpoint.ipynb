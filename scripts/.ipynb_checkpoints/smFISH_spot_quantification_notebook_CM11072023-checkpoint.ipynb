{
 "cells": [
  {
   "cell_type": "markdown",
   "id": "fadd8335",
   "metadata": {},
   "source": [
    "### Import packages - not already imported in functions.py"
   ]
  },
  {
   "cell_type": "code",
   "execution_count": 23,
   "id": "d92a74c0",
   "metadata": {
    "direction": "rtl"
   },
   "outputs": [],
   "source": [
    "#file navigation tools\n",
    "from glob import glob\n",
    "import time"
   ]
  },
  {
   "cell_type": "markdown",
   "id": "b18a9467",
   "metadata": {},
   "source": [
    "## Import the self-written functions from functions.py"
   ]
  },
  {
   "cell_type": "code",
   "execution_count": 2,
   "id": "f6314d5e",
   "metadata": {},
   "outputs": [],
   "source": [
    "%run -i functions.py"
   ]
  },
  {
   "cell_type": "markdown",
   "id": "fbfc40d6",
   "metadata": {},
   "source": [
    "#### Read corresponding DIC and TIF images and split the TIF file into the four channels\n",
    "- \"corresponding_files\" is a list of the corresponding file names. \n",
    "- \"stack_example\" is an array of the 40 zslices for each of the 4 channels."
   ]
  },
  {
   "cell_type": "code",
   "execution_count": 13,
   "id": "bda00597",
   "metadata": {},
   "outputs": [],
   "source": [
    "yET916_BR2_03 = ['C:/Users/lotta/Documents/Bioinformatics_Msc/Project/DATA_INITIAL/pair_1/yET916-SUN4Q570-SRL1CFR610-ASH1CLB2Q670_03_CY5, CY3.5 NAR, CY3, DAPI.tif',\n",
    "                 \"C:/Users/lotta/Documents/Bioinformatics_Msc/Project/DATA_INITIAL/pair_1/yET916-SUN4Q570-SRL1CFR610-ASH1CLB2Q670_04_DIC-100.tif\"]\n",
    "\n",
    "\n",
    "yET915_RP2_22 = [\"Z:/bigdata/2022/Marah/220429/yET915 RP2/TIFF/yET915-BR2-ASH1CLB2Q670-SRL1CFL610-SUN4Q570_22_CY5, CY3.5 NAR, CY3, DAPI.tif\",\n",
    "                 \"Z:/bigdata/2022/Marah/220429/yET915 RP2/DIC/yET915-BR2-ASH1CLB2Q670-SRL1CFL610-SUN4Q570_25_DIC-100.tif\"]\n",
    "\n",
    "yET915_RP2_23 = [\"Z:/bigdata/2022/Marah/220429/yET915 RP2/TIFF/yET915-BR2-ASH1CLB2Q670-SRL1CFL610-SUN4Q570_23_CY5, CY3.5 NAR, CY3, DAPI.tif\",\n",
    "                 \"Z:/bigdata/2022/Marah/220429/yET915 RP2/DIC/yET915-BR2-ASH1CLB2Q670-SRL1CFL610-SUN4Q570_26_DIC-100.tif\"]\n",
    "\n",
    "yET915_RP2_24 = [\"Z:/bigdata/2022/Marah/220429/yET915 RP2/TIFF/yET915-BR2-ASH1CLB2Q670-SRL1CFL610-SUN4Q570_24_CY5, CY3.5 NAR, CY3, DAPI.tif\",\n",
    "                 \"Z:/bigdata/2022/Marah/220429/yET915 RP2/DIC/yET915-BR2-ASH1CLB2Q670-SRL1CFL610-SUN4Q570_27_DIC-100.tif\"]\n",
    "\n",
    "yET916_28 = [\"Z:/bigdata/2022/Marah/220429/yET916/TIFF/yET916-ASH1CLB2Q670-SRL1CFL610-SUN4Q570_28_CY5, CY3.5 NAR, CY3, DAPI.tif\",\n",
    "             \"Z:/bigdata/2022/Marah/220429/yET916/DIC/yET916-ASH1CLB2Q670-SRL1CFL610-SUN4Q570_28_DIC-100.tif\"]\n",
    "\n",
    "yET916_29 = [\"Z:/bigdata/2022/Marah/220429/yET916/TIFF/yET916-ASH1CLB2Q670-SRL1CFL610-SUN4Q570_29_CY5, CY3.5 NAR, CY3, DAPI.tif\",\n",
    "             \"Z:/bigdata/2022/Marah/220429/yET916/DIC/yET916-ASH1CLB2Q670-SRL1CFL610-SUN4Q570_29_DIC-100.tif\"]\n",
    "\n",
    "yET916_30 = [\"Z:/bigdata/2022/Marah/220429/yET916/TIFF/yET916-ASH1CLB2Q670-SRL1CFL610-SUN4Q570_30_CY5, CY3.5 NAR, CY3, DAPI.tif\",\n",
    "             \"Z:/bigdata/2022/Marah/220429/yET916/DIC/yET916-ASH1CLB2Q670-SRL1CFL610-SUN4Q570_30_DIC-100.tif\"]"
   ]
  },
  {
   "cell_type": "code",
   "execution_count": 30,
   "id": "207f7b96",
   "metadata": {},
   "outputs": [
    {
     "name": "stderr",
     "output_type": "stream",
     "text": [
      "100%|████████████████████████████████████████████████████████████████████████████████| 164/164 [18:43<00:00,  6.85s/it]\n"
     ]
    }
   ],
   "source": [
    "#path = \"C:/Users/lotta/Documents/Bioinformatics_Msc/Project/DATA_INITIAL/pair_3\"\n",
    "#corresponding_files, stack_example = read_stack([f\"{path}/yET915-SUN4Q570-SRL1CFR610-ASH1CLB2Q670_03_CY5, CY3.5 NAR, CY3, DAPI.tif\",\n",
    "#                                                 f\"{path}/yET915-SUN4Q570-SRL1CFR610-ASH1CLB2Q670_03_DIC-100.tif\"])\n",
    "\n",
    "#path = \"C:/Users/lotta/Documents/Bioinformatics_Msc/Project/DATA_INITIAL/pair_2\"\n",
    "#corresponding_files, stack_example = read_stack([f\"{path}/yET563-SUN4Q570-SRL1CFR610-ASH1Q670_03_CY5, CY3.5 NAR, CY3, DAPI.tif\",\n",
    "#                                                 f\"{path}/yET563-SUN4Q570-SRL1CFR610-ASH1Q670_03_DIC-100.tif\"])\n",
    "\n",
    "corresponding_files, stack_example = read_stack(yET915_RP2_24)"
   ]
  },
  {
   "cell_type": "markdown",
   "id": "343bb490",
   "metadata": {},
   "source": [
    "#### For each channel create a Maximum Intensity Projection for each channel\n",
    "- For each channel there are 40 slices of these not all are in focus, if the \"in-focus-zslices\" are known they can be input into the function. \n",
    "- If not a laplacian operator can be used to select these \"in-focus-zslices\"."
   ]
  },
  {
   "cell_type": "code",
   "execution_count": 31,
   "id": "fe6e735c",
   "metadata": {},
   "outputs": [],
   "source": [
    "# Create Maximum Intensity Projections for each channel\n",
    "# Each MIP image array is iteratively added to the projection list.\n",
    "projection = []\n",
    "for i in stack_example:\n",
    "    # Instead of choose_focus_lap(i) the focussed slices can be \n",
    "    # input in the form [first in focus slice, last in focus slice]\n",
    "    projection.append(np_mip(i, choose_focus_lap(i)))"
   ]
  },
  {
   "cell_type": "markdown",
   "id": "86f056ac",
   "metadata": {},
   "source": [
    "#### View the MIPs alongside the DIC in napari"
   ]
  },
  {
   "cell_type": "code",
   "execution_count": 32,
   "id": "9a54b18d",
   "metadata": {},
   "outputs": [],
   "source": [
    "# View the MIPs in napari.\n",
    "viewer= napari.Viewer()\n",
    "napari_view(corresponding_files, np.array(projection))"
   ]
  },
  {
   "cell_type": "markdown",
   "id": "6daf9e6f",
   "metadata": {},
   "source": [
    "## Detect the mRNA spots for each of the zslices in each channel\n",
    "- \"spot_coord_dict\" is a dictionary where the key is each channel and the value is an array of the mRNA coordinates."
   ]
  },
  {
   "cell_type": "code",
   "execution_count": 15,
   "id": "80b995d0",
   "metadata": {},
   "outputs": [],
   "source": [
    "# RNA detection for each channel.\n",
    "spot_coord_dict = spot_coord(stack_example)"
   ]
  },
  {
   "cell_type": "markdown",
   "id": "2a92ff43",
   "metadata": {},
   "source": [
    "#### View the MIPs alongside the DIC with the detected spots in napari"
   ]
  },
  {
   "cell_type": "code",
   "execution_count": 16,
   "id": "afc7e5e6",
   "metadata": {},
   "outputs": [
    {
     "name": "stderr",
     "output_type": "stream",
     "text": [
      "WARNING: QWindowsWindow::setGeometry: Unable to set geometry 1280x1104+12+46 (frame: 1302x1160+1+1) on QWidgetWindow/\"_QtMainWindowClassWindow\" on \"\\\\.\\DISPLAY1\". Resulting geometry: 1280x1102+12+46 (frame: 1302x1158+1+1) margins: 11, 45, 11, 11 minimum size: 374x551 MINMAXINFO maxSize=0,0 maxpos=0,0 mintrack=770,1158 maxtrack=0,0)\n"
     ]
    }
   ],
   "source": [
    "viewer= napari.Viewer()\n",
    "napari_view(corresponding_files, np.array(projection))\n",
    "napari_view_spots(corresponding_files, np.array(projection), spot_coord_dict)"
   ]
  },
  {
   "cell_type": "markdown",
   "id": "001973d3",
   "metadata": {},
   "source": [
    "# Cellpose\n",
    "#### Load pre-trained models\n",
    "- These can be substituted with any user-trained model and there is no need to use two, this is simply for mother-bud analysis. "
   ]
  },
  {
   "cell_type": "code",
   "execution_count": 17,
   "id": "a8283f11",
   "metadata": {},
   "outputs": [],
   "source": [
    "#whole_model = models.CellposeModel(pretrained_model=\"C:/Users/lotta/Pictures/Cellpose/models/tog_motherbud_pair1\")\n",
    "sep_model = models.CellposeModel(pretrained_model=\"C:/Users/lotta/Pictures/Cellpose/models/CP_20230614_101732\")"
   ]
  },
  {
   "cell_type": "markdown",
   "id": "3b0aeef2",
   "metadata": {},
   "source": [
    "#### Choose images to create masks of using the model"
   ]
  },
  {
   "cell_type": "code",
   "execution_count": null,
   "id": "b4876637",
   "metadata": {},
   "outputs": [],
   "source": [
    "# list of files\n",
    "files = [\"C:/Users/lotta/Pictures/Cellpose/pair2_pic.tiff\"]\n",
    "imgs = [imread(f) for f in files]\n",
    "nimg = len(imgs)"
   ]
  },
  {
   "cell_type": "markdown",
   "id": "73ae0f81",
   "metadata": {},
   "source": [
    "#### Evaluate the images and return masks"
   ]
  },
  {
   "cell_type": "code",
   "execution_count": null,
   "id": "49eec417",
   "metadata": {},
   "outputs": [],
   "source": [
    "# define CHANNELS to run segementation on\n",
    "# grayscale=0, R=1, G=2, B=3\n",
    "# channels = [cytoplasm, nucleus]\n",
    "# if NUCLEUS channel does not exist, set the second channel to 0\n",
    "# IF ALL YOUR IMAGES ARE THE SAME TYPE, you can give a list with 2 elements\n",
    "# channels = [0,0] # IF YOU HAVE GRAYSCALE\n",
    "# channels = [2,3] # IF YOU HAVE G=cytoplasm and B=nucleus\n",
    "# channels = [2,1] # IF YOU HAVE G=cytoplasm and R=nucleus\n",
    "\n",
    "# if diameter is set to None, the size of the cells is estimated on a per image basis\n",
    "# you can set the average cell `diameter` in pixels yourself (recommended)\n",
    "# diameter can be a list or a single number for all images\n",
    "channels = [[0,0]]\n",
    "#whole_masks = whole_model.eval(imgs, diameter=None, channels=channels)\n",
    "mask_sep, sep_flows, sep_styles = sep_model.eval(imgs, diameter=None, channels=channels)"
   ]
  },
  {
   "cell_type": "code",
   "execution_count": 18,
   "id": "6b4a15c3",
   "metadata": {},
   "outputs": [],
   "source": [
    "projection_dict = {'CY5':projection[0], 'CY3.5P':projection[1], 'CY3P':projection[2], 'DAPIP':projection[3]}"
   ]
  },
  {
   "cell_type": "markdown",
   "id": "77004ab1",
   "metadata": {},
   "source": [
    "### Assign mRNA spots to individual cells\n",
    "##### For the 'separate' masks i.e. the mother and the bud are two separate units"
   ]
  },
  {
   "cell_type": "code",
   "execution_count": 43,
   "id": "a0802999",
   "metadata": {},
   "outputs": [],
   "source": [
    "# Load masks of both Cellpose models.\n",
    "#mask_sep = \"C:/Users/lotta/Pictures/Cellpose/masks/yET563_BR1_03_sepmasks.png\"\n",
    "fov_sep = spot_per_cell(spot_coord_dict, 'CY5', mask_sep, projection_dict)"
   ]
  },
  {
   "cell_type": "markdown",
   "id": "d987181d",
   "metadata": {},
   "source": [
    "##### For the 'whole' masks i.e. the mother and the bud are one unit."
   ]
  },
  {
   "cell_type": "code",
   "execution_count": 44,
   "id": "b145932f",
   "metadata": {},
   "outputs": [],
   "source": [
    "#mask_whole = \"C:/Users/lotta/Pictures/Cellpose/masks/yET563_BR1_03_wholemasks.png\"\n",
    "#fov_whole = spot_per_cell(spot_coord_dict, 'CY5', mask_whole, projection_dict)"
   ]
  },
  {
   "cell_type": "markdown",
   "id": "13386fc4",
   "metadata": {},
   "source": [
    "## Work out the DIC shift using the proportion of mRNA spots in cells vs outside of them \n",
    "- \"dic_shift_coords\" is very slow as it is currently enumerating over a vast number of coordinate combinations. Currently unsure how to solve this."
   ]
  },
  {
   "cell_type": "code",
   "execution_count": 21,
   "id": "68f31433",
   "metadata": {},
   "outputs": [],
   "source": [
    "prop, cells, total = spots_in_cells(spot_coord_dict, fov_sep)\n",
    "dic_shift_info = dic_shift_coords(fov_whole, io.imread(mask_sep), prop, spot_coord_dict)\n",
    "# dic_shift_info [proportion, x, y, fov_whole_shift]"
   ]
  },
  {
   "cell_type": "markdown",
   "id": "ad20da91",
   "metadata": {},
   "source": [
    "### Shift the coordinates of the masks"
   ]
  },
  {
   "cell_type": "code",
   "execution_count": 23,
   "id": "9bb19e76",
   "metadata": {},
   "outputs": [],
   "source": [
    "# Tranlaste the coordinates into where the cells are in the original image.\n",
    "mask_sep_coords = mask_coordinates(fov_sep, dic_shift_info[1:3])\n",
    "#mask_whole_coords = mask_coordinates(fov_whole, dic_shift_info[1:3])"
   ]
  },
  {
   "cell_type": "markdown",
   "id": "657daef9",
   "metadata": {},
   "source": [
    "### Per cell mRNA coordinates with the shift "
   ]
  },
  {
   "cell_type": "code",
   "execution_count": 47,
   "id": "079d39fe",
   "metadata": {
    "scrolled": true
   },
   "outputs": [],
   "source": [
    "mask_sep_shifted = shift(io.imread(mask_sep), dic_shift_info[1:3])\n",
    "fov_sep_shifted = spot_per_cell(spot_coord_dict, 'CY5', mask_sep_shifted, projection_dict)\n",
    "#fov_whole_shifted = dic_shift_info[3]"
   ]
  },
  {
   "cell_type": "markdown",
   "id": "29ef845a",
   "metadata": {},
   "source": [
    "### Find the corresponding mother and bud segments"
   ]
  },
  {
   "cell_type": "code",
   "execution_count": 48,
   "id": "c66f645d",
   "metadata": {},
   "outputs": [],
   "source": [
    "# Assign the mother and bud fragments to eachother using the centre points of the masks.\n",
    "#centroid_dict = mask_centroids(mask_sep_coords)\n",
    "#motherbud_pairs = mother_bud_reunion(mask_whole_coords, centroid_dict)\n",
    "#motherbud_dict = mother_or_bud(motherbud_pairs) # fov index : mother or bud"
   ]
  },
  {
   "cell_type": "markdown",
   "id": "2a020d2c",
   "metadata": {},
   "source": [
    "#### View shifted masks with spots on MIPs with the corresponding DIC"
   ]
  },
  {
   "cell_type": "code",
   "execution_count": 49,
   "id": "e276d87d",
   "metadata": {},
   "outputs": [
    {
     "data": {
      "text/plain": [
       "<Shapes layer 'mask_whole_coords' at 0x11728591fa0>"
      ]
     },
     "execution_count": 49,
     "metadata": {},
     "output_type": "execute_result"
    }
   ],
   "source": [
    "viewer = napari.Viewer()\n",
    "napari_view(corresponding_files, np.array(projection))\n",
    "napari_view_spots(corresponding_files, np.array(projection), spot_coord_dict)\n",
    "viewer.add_shapes(mask_sep_coords, shape_type='polygon', edge_width=2, edge_color='coral', face_color='transparent')\n",
    "#viewer.add_shapes(mask_whole_coords, shape_type='polygon', edge_width=2, edge_color='green', face_color='transparent')"
   ]
  },
  {
   "cell_type": "markdown",
   "id": "d247ab9c",
   "metadata": {},
   "source": [
    "# Put all the information in a DataFrame"
   ]
  }
 ],
 "metadata": {
  "kernelspec": {
   "display_name": "Python [conda env:mscproject]",
   "language": "python",
   "name": "conda-env-mscproject-py"
  },
  "language_info": {
   "codemirror_mode": {
    "name": "ipython",
    "version": 3
   },
   "file_extension": ".py",
   "mimetype": "text/x-python",
   "name": "python",
   "nbconvert_exporter": "python",
   "pygments_lexer": "ipython3",
   "version": "3.9.16"
  }
 },
 "nbformat": 4,
 "nbformat_minor": 5
}
