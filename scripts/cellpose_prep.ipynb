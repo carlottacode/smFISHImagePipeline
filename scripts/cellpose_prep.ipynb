{
 "cells": [
  {
   "cell_type": "code",
   "execution_count": 1,
   "id": "dbac7215",
   "metadata": {},
   "outputs": [],
   "source": [
    "import tifffile\n",
    "import time"
   ]
  },
  {
   "cell_type": "code",
   "execution_count": 2,
   "id": "5a754591",
   "metadata": {},
   "outputs": [],
   "source": [
    "%run -i functions.py"
   ]
  },
  {
   "cell_type": "code",
   "execution_count": 3,
   "id": "4b939404",
   "metadata": {},
   "outputs": [],
   "source": [
    "def split_stack(image, channels=['CY5', 'CY3', 'CY3.5', 'DAPI'], colors=['magenta', 'green', 'cyan', 'blue']):\n",
    "    image_dictionary = {}\n",
    "    print(image.shape)\n",
    "    for i in range(0,len(image)):\n",
    "        print(i)\n",
    "        image_dictionary[channels[i]] = (colors[i], image[i])\n",
    "    return image_dictionary    "
   ]
  },
  {
   "cell_type": "code",
   "execution_count": 4,
   "id": "df708641",
   "metadata": {},
   "outputs": [],
   "source": [
    "yET915_RP2_22 = [\"Z:/bigdata/2022/Marah/220429/yET915 RP2/TIFF/yET915-BR2-ASH1CLB2Q670-SRL1CFL610-SUN4Q570_22_CY5, CY3.5 NAR, CY3, DAPI.tif\",\n",
    "                 \"Z:/bigdata/2022/Marah/220429/yET915 RP2/DIC/yET915-BR2-ASH1CLB2Q670-SRL1CFL610-SUN4Q570_25_DIC-100.tif\"]\n",
    "\n",
    "yET915_RP2_23 = [\"Z:/bigdata/2022/Marah/220429/yET915 RP2/TIFF/yET915-BR2-ASH1CLB2Q670-SRL1CFL610-SUN4Q570_23_CY5, CY3.5 NAR, CY3, DAPI.tif\",\n",
    "                 \"Z:/bigdata/2022/Marah/220429/yET915 RP2/DIC/yET915-BR2-ASH1CLB2Q670-SRL1CFL610-SUN4Q570_26_DIC-100.tif\"]\n",
    "\n",
    "yET915_RP2_24 = [\"Z:/bigdata/2022/Marah/220429/yET915 RP2/TIFF/yET915-BR2-ASH1CLB2Q670-SRL1CFL610-SUN4Q570_24_CY5, CY3.5 NAR, CY3, DAPI.tif\",\n",
    "                 \"Z:/bigdata/2022/Marah/220429/yET915 RP2/DIC/yET915-BR2-ASH1CLB2Q670-SRL1CFL610-SUN4Q570_27_DIC-100.tif\"]\n",
    "\n",
    "yET916_28 = [\"Z:/bigdata/2022/Marah/220429/yET916/TIFF/yET916-ASH1CLB2Q670-SRL1CFL610-SUN4Q570_28_CY5, CY3.5 NAR, CY3, DAPI.tif\",\n",
    "             \"Z:/bigdata/2022/Marah/220429/yET916/DIC/yET916-ASH1CLB2Q670-SRL1CFL610-SUN4Q570_28_DIC-100.tif\"]\n",
    "\n",
    "yET916_29 = [\"Z:/bigdata/2022/Marah/220429/yET916/TIFF/yET916-ASH1CLB2Q670-SRL1CFL610-SUN4Q570_29_CY5, CY3.5 NAR, CY3, DAPI.tif\",\n",
    "             \"Z:/bigdata/2022/Marah/220429/yET916/DIC/yET916-ASH1CLB2Q670-SRL1CFL610-SUN4Q570_29_DIC-100.tif\"]\n",
    "\n",
    "yET916_30 = [\"Z:/bigdata/2022/Marah/220429/yET916/TIFF/yET916-ASH1CLB2Q670-SRL1CFL610-SUN4Q570_30_CY5, CY3.5 NAR, CY3, DAPI.tif\",\n",
    "             \"Z:/bigdata/2022/Marah/220429/yET916/DIC/yET916-ASH1CLB2Q670-SRL1CFL610-SUN4Q570_30_DIC-100.tif\"]"
   ]
  },
  {
   "cell_type": "code",
   "execution_count": 10,
   "id": "a907b4d9",
   "metadata": {},
   "outputs": [
    {
     "name": "stderr",
     "output_type": "stream",
     "text": [
      "100%|████████████████████████████████████████████████████████████████████████████████| 164/164 [00:51<00:00,  3.17it/s]\n"
     ]
    },
    {
     "name": "stdout",
     "output_type": "stream",
     "text": [
      "(4, 41, 2304, 2304)\n",
      "0\n",
      "1\n",
      "2\n",
      "3\n",
      "1.2100114981333414\n"
     ]
    }
   ],
   "source": [
    "start = time.time()\n",
    "corresponding_files, stack_example = read_stack(yET916_30)\n",
    "channel_dictionary = split_stack(stack_example)\n",
    "#channel_dictionary['DAPI'][1]\n",
    "projection = (np_mip(channel_dictionary['DAPI'][1], choose_focus_lap(channel_dictionary['DAPI'][1])))\n",
    "end = time.time()\n",
    "print((end-start)/60)"
   ]
  },
  {
   "cell_type": "code",
   "execution_count": 11,
   "id": "86dcb587",
   "metadata": {
    "scrolled": false
   },
   "outputs": [],
   "source": [
    "cellpose_input = [io.imread(corresponding_files[1]), projection]\n",
    "io.imsave(\"C:/Users/lotta/Pictures/Cellpose/yET916_30_cellpose.tiff\", np.array(cellpose_input))"
   ]
  },
  {
   "cell_type": "code",
   "execution_count": 13,
   "id": "00acbf69",
   "metadata": {},
   "outputs": [],
   "source": [
    "viewer = napari.Viewer()\n",
    "napari_view(corresponding_files, np.array([projection]))"
   ]
  },
  {
   "cell_type": "code",
   "execution_count": null,
   "id": "34279c78",
   "metadata": {},
   "outputs": [],
   "source": [
    "# assuming your layer.data is a 3D array, with the first axis as Z\n",
    "for i, plane in enumerate(layer.data):\n",
    "    tifffile.imsave(f'my_image_z{i:03}.tif', plane)"
   ]
  },
  {
   "cell_type": "code",
   "execution_count": 45,
   "id": "70e7fc14",
   "metadata": {},
   "outputs": [],
   "source": [
    "alpha = 0.95\n",
    "image0 = io.imread(corresponding_files[1])\n",
    "image1 = projection\n",
    "blended = alpha * image0 + (1 - alpha) * image1\n",
    "cellpose_input = [blended, image1]\n",
    "io.imsave(\"C:/Users/lotta/Pictures/Cellpose/blended2channel_pair2_pic.tiff\", np.array(cellpose_input), 'tifffile')"
   ]
  }
 ],
 "metadata": {
  "kernelspec": {
   "display_name": "Python [conda env:mscproject]",
   "language": "python",
   "name": "conda-env-mscproject-py"
  },
  "language_info": {
   "codemirror_mode": {
    "name": "ipython",
    "version": 3
   },
   "file_extension": ".py",
   "mimetype": "text/x-python",
   "name": "python",
   "nbconvert_exporter": "python",
   "pygments_lexer": "ipython3",
   "version": "3.9.16"
  }
 },
 "nbformat": 4,
 "nbformat_minor": 5
}
