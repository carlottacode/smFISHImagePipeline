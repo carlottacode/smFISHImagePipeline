{
 "cells": [
  {
   "cell_type": "code",
   "execution_count": null,
   "id": "5279f541",
   "metadata": {},
   "outputs": [],
   "source": [
    "# this cell is required to run these notebooks on Binder. Make sure that you also have a desktop tab open.\n",
    "import os\n",
    "if 'BINDER_SERVICE_HOST' in os.environ:\n",
    "    os.environ['DISPLAY'] = ':1.0'"
   ]
  },
  {
   "cell_type": "code",
   "execution_count": 1,
   "id": "14ef3874",
   "metadata": {},
   "outputs": [],
   "source": [
    "#file navigation tools\n",
    "from glob import glob\n",
    "import os\n",
    "#image analysis library\n",
    "from skimage import io\n",
    "#jupyter notebook img display\n",
    "import stackview\n",
    "#The fundamental package for scientific computing with Python\n",
    "import numpy as np\n",
    "#python image viewer \n",
    "import napari\n",
    "#excel for python\n",
    "import pandas as pd\n",
    "import csv\n",
    "\n",
    "import bigfish\n",
    "import bigfish.stack as stack\n",
    "import bigfish.detection as detection\n",
    "import bigfish.multistack as multistack\n",
    "import bigfish.plot as plot\n",
    "\n",
    "import cv2 as cv\n",
    "from typing import List\n",
    "\n",
    "\n",
    "import warnings\n",
    "warnings.filterwarnings('ignore')\n",
    "\n",
    "import matplotlib.pyplot as plt\n",
    "from matplotlib.backends.backend_agg import FigureCanvasAgg"
   ]
  },
  {
   "cell_type": "code",
   "execution_count": 2,
   "id": "e98e9a39",
   "metadata": {},
   "outputs": [],
   "source": [
    "# =============================================================================\n",
    "# This function allows you to ask a yes or no question which either returns a \n",
    "# counter 'y' or 'n'. I use this in other functions when deciding to interact \n",
    "# with the user. I have usually used this to exit a while True: loop\n",
    "# =============================================================================\n",
    "def yes_or_no(question):\n",
    "    counter = ''\n",
    "    while counter == '':\n",
    "        #The user is asked a yes or no question.\n",
    "        user = input('\\n\\n!!!\\n'+question+'(y/n)\\n!!!\\n')\n",
    "        #If they don't either input yes or no in the accepted format the while loop is not broken.\n",
    "        if user.lower() in ['yes', 'y']:\n",
    "            counter += 'y'\n",
    "            #While loop broken and programme run can continue.\n",
    "            return counter\n",
    "        elif user.lower() in ['no', 'n']:\n",
    "            counter+='n'\n",
    "            #While loop broken and programme run can continue.\n",
    "            return counter\n",
    "        else:\n",
    "            print_info('I\\'m sorry I don\\'t understand... Please enter (y\\\\n) in the accepted format')"
   ]
  },
  {
   "cell_type": "code",
   "execution_count": 3,
   "id": "08c4e005",
   "metadata": {},
   "outputs": [],
   "source": [
    "def lap_variance(img):\n",
    "    return np.var(cv.Laplacian(img, cv.CV_64F, ksize=21))"
   ]
  },
  {
   "cell_type": "code",
   "execution_count": 4,
   "id": "9302573f",
   "metadata": {},
   "outputs": [],
   "source": [
    "def best_focus_z_slice_id(channel):\n",
    "    lap_var_z_slice = []\n",
    "    for img in channel:\n",
    "        lap_var_z_slice.append(lap_variance(img)) \n",
    "    max_var = max(lap_var_z_slice)\n",
    "    max_var_id = lap_var_z_slice.index(max_var)\n",
    "    return max_var_id"
   ]
  },
  {
   "cell_type": "code",
   "execution_count": 5,
   "id": "07175820",
   "metadata": {},
   "outputs": [],
   "source": [
    "def read_stack(folder):\n",
    "    files=glob(folder)\n",
    "    img = io.imread(files[0], plugin='pil')\n",
    "    img=np.expand_dims(img,1)\n",
    "    img=np.reshape(img,(4,41,2304,2304))\n",
    "    return files, img"
   ]
  },
  {
   "cell_type": "code",
   "execution_count": 6,
   "id": "26d8c4ee",
   "metadata": {},
   "outputs": [],
   "source": [
    "def choose_focus_lap(channel_stack):\n",
    "    focus = [best_focus_z_slice_id(channel_stack)-10, best_focus_z_slice_id(channel_stack)+10]\n",
    "    #BIGFISH\n",
    "    #focus = stack.compute_focus(img[i], neighborhood_size=31)\n",
    "    return focus"
   ]
  },
  {
   "cell_type": "code",
   "execution_count": 7,
   "id": "e38b0adf",
   "metadata": {},
   "outputs": [],
   "source": [
    "def np_mip(channel_array, focus):\n",
    "    return np.amax(channel_array[focus[0]:focus[1],...],axis=0,keepdims=False)"
   ]
  },
  {
   "cell_type": "code",
   "execution_count": 8,
   "id": "1c62df54",
   "metadata": {},
   "outputs": [],
   "source": [
    "def projection_filter(channel_projection):\n",
    "    return stack.remove_background_gaussian(channel_projection, sigma=3)"
   ]
  },
  {
   "cell_type": "code",
   "execution_count": 9,
   "id": "29cd772d",
   "metadata": {},
   "outputs": [],
   "source": [
    "def napari_view(files, zproject, channels=['CY5', 'CY3', 'CY3.5', 'DAPI'], colors=['magenta', 'green', 'cyan', 'blue']):\n",
    "    viewer= napari.Viewer()\n",
    "    viewer.add_image(io.imread(files[1]), name='DIC', opacity=0.30)\n",
    "    for i in range(zproject.shape[0]):\n",
    "        viewer.add_image(zproject[i,...],name=channels[i],colormap=colors[i],opacity=0.90)"
   ]
  },
  {
   "cell_type": "code",
   "execution_count": 24,
   "id": "96d7ed69",
   "metadata": {},
   "outputs": [],
   "source": [
    "def napari_view_spots(files, zproject, spots, channels=['CY5', 'CY3', 'CY3.5', 'DAPI'], colors=['magenta', 'green', 'cyan', 'blue']):\n",
    "    viewer= napari.Viewer()\n",
    "    viewer.add_image(io.imread(files[1]), name='DIC', opacity=0.30)\n",
    "    for i in range(zproject.shape[0]):\n",
    "        viewer.add_image(zproject[i,...],name=channels[i],colormap=colors[i],opacity=0.90)\n",
    "        if i < len(spots):\n",
    "            coordinates_2d = spots[i][:, 1:]\n",
    "            viewer.add_points(coordinates_2d, name=str(channels[i])+' spot', opacity=0.7)"
   ]
  },
  {
   "cell_type": "code",
   "execution_count": 10,
   "id": "4d1094e0",
   "metadata": {},
   "outputs": [],
   "source": [
    "corresponding_files, stack_example = read_stack(\"C:/Users/lotta/Documents/Bioinformatics_Msc/Project/DATA_INITIAL/data/*\")\n",
    "projection = []\n",
    "for i in stack_example:\n",
    "    projection.append(np_mip(i, choose_focus_lap(i)))\n",
    "napari_view(corresponding_files, np.array(projection))"
   ]
  },
  {
   "cell_type": "code",
   "execution_count": 107,
   "id": "18581f09",
   "metadata": {},
   "outputs": [
    {
     "data": {
      "text/plain": [
       "(4, 2304, 2304)"
      ]
     },
     "execution_count": 107,
     "metadata": {},
     "output_type": "execute_result"
    }
   ],
   "source": [
    "np.array(projection).shape"
   ]
  },
  {
   "cell_type": "code",
   "execution_count": 26,
   "id": "2c3fbe8d",
   "metadata": {},
   "outputs": [
    {
     "name": "stdout",
     "output_type": "stream",
     "text": [
      "(1340, 3)\n",
      "[ 13 447 294]\n",
      "(4200, 3)\n",
      "[ 14  38 165]\n",
      "(2622, 3)\n",
      "[  10 2059  570]\n"
     ]
    }
   ],
   "source": [
    "spot_coord = []\n",
    "for i in range(0,len(stack_example)-1):\n",
    "    spots, threshold = detection.detect_spots(\n",
    "        images=stack_example[i], \n",
    "        return_threshold=True, \n",
    "        voxel_size=(200, 64.5, 64.5),  # in nanometer (one value per dimension zyx)\n",
    "        spot_radius=(250, 80, 80))\n",
    "    print(spots.shape)\n",
    "    print(spots[0])\n",
    "    spot_coord.append(spots)"
   ]
  },
  {
   "cell_type": "code",
   "execution_count": 30,
   "id": "f786c160",
   "metadata": {},
   "outputs": [
    {
     "name": "stderr",
     "output_type": "stream",
     "text": [
      "WARNING: QWindowsWindow::setGeometry: Unable to set geometry 1920x1264+0+34 (frame: 1942x1320-11-11) on QWidgetWindow/\"_QtMainWindowClassWindow\" on \"\\\\.\\DISPLAY1\". Resulting geometry: 1920x974+0+34 (frame: 1942x1030-11-11) margins: 11, 45, 11, 11 minimum size: 766x632 MINMAXINFO maxSize=0,0 maxpos=0,0 mintrack=1554,1320 maxtrack=0,0)\n"
     ]
    }
   ],
   "source": [
    "napari_view_spots(corresponding_files, np.array(projection), spot_coord)"
   ]
  },
  {
   "cell_type": "code",
   "execution_count": null,
   "id": "ec75cb9f",
   "metadata": {},
   "outputs": [],
   "source": [
    "def bigfish_mip(folder, channels, colors):\n",
    "    files=glob(folder)\n",
    "    img = io.imread(files[0], plugin='pil')\n",
    "    img=np.expand_dims(img,1)\n",
    "    img=np.reshape(img,(4,41,2304,2304))\n",
    "    bf_mip = []\n",
    "    for i in img:\n",
    "        bf_mip.append((bigfish.stack.maximum_projection(i)))\n",
    "    bf_mip = np.array(bf_mip)\n",
    "    \n",
    "    viewer= napari.Viewer()\n",
    "    viewer.add_image(io.imread(files[1]), name='DIC', opacity=0.50)\n",
    "    for i in range(bf_mip.shape[0]):\n",
    "        viewer.add_image(bf_mip[i,...],name=channels[i],colormap=colors[i],opacity=0.30)"
   ]
  },
  {
   "cell_type": "code",
   "execution_count": null,
   "id": "46330710",
   "metadata": {},
   "outputs": [],
   "source": [
    "path=\"C:/Users/lotta/Documents/Bioinformatics_Msc/Project/DATA_INITIAL/data/*\"\n",
    "bigfish_mip(path, ['CY5', 'CY3', 'CY3.5', 'DAPI'], ['magenta', 'green', 'cyan', 'blue'])"
   ]
  },
  {
   "cell_type": "code",
   "execution_count": null,
   "id": "ded23971",
   "metadata": {},
   "outputs": [],
   "source": [
    "channels = ['CY5', 'CY3', 'CY3.5', 'DAPI']\n",
    "colors = ['magenta', 'green', 'cyan', 'blue']\n",
    "#Amsterdam have their channels in a different order\n",
    "#amsterdam_channels=['CY3','CY5','DAPI','CY3.5']\n",
    "#amsterdam_colors=['green','magenta','blue','cyan']"
   ]
  },
  {
   "cell_type": "code",
   "execution_count": null,
   "id": "a481f4c9",
   "metadata": {},
   "outputs": [],
   "source": [
    "#path = \"E:\\220429\"\n",
    "#path = \"E:\\220429\\yET915 RP2\\DIC\"\n",
    "#path = \"E:\\220429\"\n",
    "#files=glob(path)\n",
    "#print(files)\n",
    "#img = io.imread(files[0], plugin='pil')\n",
    "\n",
    "path = \"E:/220429/yET915 RP2/DIC/*\"\n",
    "files1=glob(path)\n",
    "files2 =glob(\"E:/220429/yET916/DIC/*\")"
   ]
  },
  {
   "cell_type": "code",
   "execution_count": null,
   "id": "d78a6edb",
   "metadata": {},
   "outputs": [],
   "source": [
    "#files = [item for sublist in files for item in sublist]\n",
    "print(files)\n",
    "img1 = io.imread(files1[0], plugin='pil')\n",
    "img2 = io.imread(files1[1], plugin='pil')\n",
    "img3= io.imread(files1[2], plugin='pil')\n",
    "img4= io.imread(files2[0], plugin='pil')\n",
    "img5= io.imread(files2[1], plugin='pil')\n",
    "img6= io.imread(files2[2], plugin='pil')"
   ]
  },
  {
   "cell_type": "code",
   "execution_count": 8,
   "id": "07058f1f",
   "metadata": {},
   "outputs": [
    {
     "data": {
      "text/plain": [
       "(576, 576)"
      ]
     },
     "execution_count": 8,
     "metadata": {},
     "output_type": "execute_result"
    }
   ],
   "source": [
    "img1.shape\n",
    "img1_new = img1[::4, :: 4]\n",
    "\n",
    "img2_new = img2[::4, :: 4]\n",
    "img3_new = img3[::4, :: 4]\n",
    "img4_new = img4[::4, :: 4]\n",
    "img5_new = img5[::4, :: 4]\n",
    "img6_new = img6[::4, :: 4]\n",
    "img1_new.shape"
   ]
  },
  {
   "cell_type": "code",
   "execution_count": 11,
   "id": "659fd3b3",
   "metadata": {},
   "outputs": [],
   "source": [
    "plt.imsave(\"C:/Users/lotta/Documents/Bioinformatics_Msc/Project/cellpose_mara/img1.png\", img1_new, format=\"png\")\n",
    "plt.imsave(\"C:/Users/lotta/Documents/Bioinformatics_Msc/Project/cellpose_mara/img2.png\", img2_new, format=\"png\")\n",
    "plt.imsave(\"C:/Users/lotta/Documents/Bioinformatics_Msc/Project/cellpose_mara/img3.png\", img3_new, format=\"png\")\n",
    "plt.imsave(\"C:/Users/lotta/Documents/Bioinformatics_Msc/Project/cellpose_mara/img4.png\", img4_new, format=\"png\")\n",
    "plt.imsave(\"C:/Users/lotta/Documents/Bioinformatics_Msc/Project/cellpose_mara/img5.png\", img5_new, format=\"png\")\n",
    "plt.imsave(\"C:/Users/lotta/Documents/Bioinformatics_Msc/Project/cellpose_mara/img6.png\", img6_new, format=\"png\")\n"
   ]
  }
 ],
 "metadata": {
  "kernelspec": {
   "display_name": "Python [conda env:mscproject]",
   "language": "python",
   "name": "conda-env-mscproject-py"
  },
  "language_info": {
   "codemirror_mode": {
    "name": "ipython",
    "version": 3
   },
   "file_extension": ".py",
   "mimetype": "text/x-python",
   "name": "python",
   "nbconvert_exporter": "python",
   "pygments_lexer": "ipython3",
   "version": "3.9.16"
  }
 },
 "nbformat": 4,
 "nbformat_minor": 5
}
