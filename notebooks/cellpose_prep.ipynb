{
 "cells": [
  {
   "cell_type": "code",
   "execution_count": 1,
   "id": "dbac7215",
   "metadata": {},
   "outputs": [],
   "source": [
    "#file navigation tools\n",
    "from glob import glob\n",
    "import os\n",
    "#image analysis library\n",
    "from skimage import io\n",
    "#jupyter notebook img display\n",
    "import stackview\n",
    "#The fundamental package for scientific computing with Python\n",
    "import numpy as np\n",
    "#python image viewer \n",
    "import napari\n",
    "#excel for python\n",
    "import pandas as pd\n",
    "import csv\n",
    "\n",
    "import tifffile\n",
    "\n",
    "import bigfish\n",
    "import bigfish.stack as stack\n",
    "import bigfish.detection as detection\n",
    "import bigfish.multistack as multistack\n",
    "import bigfish.plot as plot\n",
    "\n",
    "import cv2 as cv\n",
    "from typing import List\n",
    "\n",
    "\n",
    "import warnings\n",
    "warnings.filterwarnings('ignore')\n",
    "\n",
    "import matplotlib.pyplot as plt\n",
    "from matplotlib.backends.backend_agg import FigureCanvasAgg"
   ]
  },
  {
   "cell_type": "code",
   "execution_count": 2,
   "id": "5486794f",
   "metadata": {},
   "outputs": [],
   "source": [
    "def lap_variance(img):\n",
    "    return np.var(cv.Laplacian(img, cv.CV_64F, ksize=21))"
   ]
  },
  {
   "cell_type": "code",
   "execution_count": 3,
   "id": "bb266d95",
   "metadata": {},
   "outputs": [],
   "source": [
    "def best_focus_z_slice_id(channel):\n",
    "    lap_var_z_slice = []\n",
    "    for img in channel:\n",
    "        lap_var_z_slice.append(lap_variance(img)) \n",
    "    max_var = max(lap_var_z_slice)\n",
    "    max_var_id = lap_var_z_slice.index(max_var)\n",
    "    return max_var_id"
   ]
  },
  {
   "cell_type": "code",
   "execution_count": 4,
   "id": "9968ee7a",
   "metadata": {},
   "outputs": [],
   "source": [
    "def read_stack(folder):\n",
    "    files=glob(folder)\n",
    "    img = io.imread(files[0], plugin='pil')\n",
    "    img=np.expand_dims(img,1)\n",
    "    img=np.reshape(img,(4,41,2304,2304))\n",
    "    return files, img"
   ]
  },
  {
   "cell_type": "code",
   "execution_count": 5,
   "id": "b7aa02ce",
   "metadata": {},
   "outputs": [],
   "source": [
    "def choose_focus_lap(channel_stack):\n",
    "    focus = [best_focus_z_slice_id(channel_stack)-10, best_focus_z_slice_id(channel_stack)+10]\n",
    "    #BIGFISH\n",
    "    #focus = stack.compute_focus(img[i], neighborhood_size=31)\n",
    "    return focus"
   ]
  },
  {
   "cell_type": "code",
   "execution_count": 6,
   "id": "3f896edc",
   "metadata": {},
   "outputs": [],
   "source": [
    "def np_mip(channel_array, focus):\n",
    "    return np.amax(channel_array[focus[0]:focus[1],...],axis=0,keepdims=False)"
   ]
  },
  {
   "cell_type": "code",
   "execution_count": 7,
   "id": "fdaebc9b",
   "metadata": {},
   "outputs": [],
   "source": [
    "def projection_filter(channel_projection):\n",
    "    return stack.remove_background_gaussian(channel_projection, sigma=3)"
   ]
  },
  {
   "cell_type": "code",
   "execution_count": 8,
   "id": "c5f69743",
   "metadata": {},
   "outputs": [],
   "source": [
    "def napari_view(files, zproject, channels=['CY5', 'CY3', 'CY3.5', 'DAPI'], colors=['magenta', 'green', 'cyan', 'blue']):\n",
    "    viewer= napari.Viewer()\n",
    "    viewer.add_image(io.imread(files[1]), name='DIC', opacity=0.30)\n",
    "    for i in range(zproject.shape[0]):\n",
    "        viewer.add_image(zproject[i,...],name=channels[i],colormap=colors[i],opacity=0.90)\n",
    "        "
   ]
  },
  {
   "cell_type": "code",
   "execution_count": 9,
   "id": "4b939404",
   "metadata": {},
   "outputs": [],
   "source": [
    "def split_stack(image, channels=['CY5', 'CY3', 'CY3.5', 'DAPI'], colors=['magenta', 'green', 'cyan', 'blue']):\n",
    "    image_dictionary = {}\n",
    "    print(image.shape)\n",
    "    for i in range(0,len(image)):\n",
    "        print(i)\n",
    "        image_dictionary[channels[i]] = (colors[i], image[i])\n",
    "    return image_dictionary    \n",
    "    "
   ]
  },
  {
   "cell_type": "code",
   "execution_count": 44,
   "id": "a907b4d9",
   "metadata": {},
   "outputs": [
    {
     "name": "stdout",
     "output_type": "stream",
     "text": [
      "(4, 41, 2304, 2304)\n",
      "0\n",
      "1\n",
      "2\n",
      "3\n"
     ]
    }
   ],
   "source": [
    "corresponding_files, stack_example = read_stack(\"C:/Users/lotta/Documents/Bioinformatics_Msc/Project/DATA_INITIAL/pair_2/*\")\n",
    "channel_dictionary = split_stack(stack_example)\n",
    "#channel_dictionary['DAPI'][1]\n",
    "projection = (np_mip(channel_dictionary['DAPI'][1], choose_focus_lap(channel_dictionary['DAPI'][1])))"
   ]
  },
  {
   "cell_type": "code",
   "execution_count": 41,
   "id": "00acbf69",
   "metadata": {},
   "outputs": [
    {
     "name": "stderr",
     "output_type": "stream",
     "text": [
      "WARNING: QWindowsWindow::setGeometry: Unable to set geometry 1280x1104+0+34 (frame: 1302x1160-11-11) on QWidgetWindow/\"_QtMainWindowClassWindow\" on \"\\\\.\\DISPLAY1\". Resulting geometry: 1280x1102+0+34 (frame: 1302x1158-11-11) margins: 11, 45, 11, 11 minimum size: 374x551 MINMAXINFO maxSize=0,0 maxpos=0,0 mintrack=770,1158 maxtrack=0,0)\n"
     ]
    }
   ],
   "source": [
    "napari_view(corresponding_files, np.array([projection]), channels=['DAPI'], colors=['blue'])"
   ]
  },
  {
   "cell_type": "code",
   "execution_count": null,
   "id": "34279c78",
   "metadata": {},
   "outputs": [],
   "source": [
    "\n",
    "\n",
    "# assuming your layer.data is a 3D array, with the first axis as Z\n",
    "for i, plane in enumerate(layer.data):\n",
    "    tifffile.imsave(f'my_image_z{i:03}.tif', plane)"
   ]
  },
  {
   "cell_type": "code",
   "execution_count": 46,
   "id": "86dcb587",
   "metadata": {
    "scrolled": false
   },
   "outputs": [],
   "source": [
    "import os\n",
    "os.chmod(\"C:/Users/lotta/Bioinformatics\", 755)\n",
    "cellpose_input = [io.imread(corresponding_files[1]), projection]\n",
    "io.imsave(\"C:/Users/lotta/Pictures/Cellpose/pair2_pic.tiff\", np.array(cellpose_input), 'tifffile')"
   ]
  },
  {
   "cell_type": "code",
   "execution_count": 45,
   "id": "70e7fc14",
   "metadata": {},
   "outputs": [],
   "source": [
    "alpha = 0.95\n",
    "image0 = io.imread(corresponding_files[1])\n",
    "image1 = projection\n",
    "blended = alpha * image0 + (1 - alpha) * image1\n",
    "cellpose_input = [blended, image1]\n",
    "io.imsave(\"C:/Users/lotta/Pictures/Cellpose/blended2channel_pair2_pic.tiff\", np.array(cellpose_input), 'tifffile')"
   ]
  },
  {
   "cell_type": "code",
   "execution_count": 47,
   "id": "741be53c",
   "metadata": {},
   "outputs": [],
   "source": [
    "corresponding_files, stack_example = read_stack(\"Z:/bigdata/2022/Marah/220601/yET563 BR1/TIFF/*\")"
   ]
  }
 ],
 "metadata": {
  "kernelspec": {
   "display_name": "Python [conda env:mscproject]",
   "language": "python",
   "name": "conda-env-mscproject-py"
  },
  "language_info": {
   "codemirror_mode": {
    "name": "ipython",
    "version": 3
   },
   "file_extension": ".py",
   "mimetype": "text/x-python",
   "name": "python",
   "nbconvert_exporter": "python",
   "pygments_lexer": "ipython3",
   "version": "3.9.16"
  }
 },
 "nbformat": 4,
 "nbformat_minor": 5
}
