{
 "cells": [
  {
   "cell_type": "code",
   "execution_count": 1,
   "id": "14ef3874",
   "metadata": {},
   "outputs": [],
   "source": [
    "#file navigation tools\n",
    "from glob import glob\n",
    "import os\n",
    "#image analysis library\n",
    "from skimage import io\n",
    "#jupyter notebook img display\n",
    "import stackview\n",
    "#The fundamental package for scientific computing with Python\n",
    "import numpy as np\n",
    "#python image viewer \n",
    "import napari\n",
    "#excel for python\n",
    "import pandas as pd\n",
    "import csv\n",
    "\n",
    "import bigfish\n",
    "import bigfish.stack as stack\n",
    "import bigfish.detection as detection\n",
    "import bigfish.multistack as multistack\n",
    "import bigfish.plot as plot\n",
    "\n",
    "import cv2 as cv\n",
    "from typing import List\n",
    "\n",
    "\n",
    "import warnings\n",
    "warnings.filterwarnings('ignore')"
   ]
  },
  {
   "cell_type": "code",
<<<<<<< HEAD
   "execution_count": 2,
=======
   "execution_count": 3,
>>>>>>> fe77a2f (keep changes)
   "id": "e98e9a39",
   "metadata": {},
   "outputs": [],
   "source": [
    "# =============================================================================\n",
    "# This function allows you to ask a yes or no question which either returns a \n",
    "# counter 'y' or 'n'. I use this in other functions when deciding to interact \n",
    "# with the user. I have usually used this to exit a while True: loop\n",
    "# =============================================================================\n",
    "def yes_or_no(question):\n",
    "    counter = ''\n",
    "    while counter == '':\n",
    "        #The user is asked a yes or no question.\n",
    "        user = input('\\n\\n!!!\\n'+question+'(y/n)\\n!!!\\n')\n",
    "        #If they don't either input yes or no in the accepted format the while loop is not broken.\n",
    "        if user.lower() in ['yes', 'y']:\n",
    "            counter += 'y'\n",
    "            #While loop broken and programme run can continue.\n",
    "            return counter\n",
    "        elif user.lower() in ['no', 'n']:\n",
    "            counter+='n'\n",
    "            #While loop broken and programme run can continue.\n",
    "            return counter\n",
    "        else:\n",
    "            print_info('I\\'m sorry I don\\'t understand... Please enter (y\\\\n) in the accepted format')"
   ]
  },
  {
   "cell_type": "code",
<<<<<<< HEAD
   "execution_count": 3,
=======
   "execution_count": 4,
>>>>>>> fe77a2f (keep changes)
   "id": "08c4e005",
   "metadata": {},
   "outputs": [],
   "source": [
    "def lap_variance(img):\n",
    "    return np.var(cv.Laplacian(img, cv.CV_64F, ksize=21))\n",
    "\n",
    "def best_focus_z_slice_id(channel):\n",
    "    lap_var_z_slice = []\n",
    "    for img in channel:\n",
    "        lap_var_z_slice.append(lap_variance(img)) \n",
    "    max_var = max(lap_var_z_slice)\n",
    "    max_var_id = lap_var_z_slice.index(max_var)\n",
    "    return max_var_id"
   ]
  },
  {
   "cell_type": "code",
<<<<<<< HEAD
   "execution_count": 4,
=======
   "execution_count": 5,
>>>>>>> fe77a2f (keep changes)
   "id": "3e9637ef",
   "metadata": {},
   "outputs": [],
   "source": [
    "def np_mip(folder, channels, colors, focus=[15,27]):\n",
    "    files=glob(folder)\n",
    "    img = io.imread(files[0], plugin='pil')\n",
    "    img=np.expand_dims(img,1)\n",
    "    img=np.reshape(img,(4,41,2304,2304))\n",
    "    \n",
    "    #Remove background gaussian?\n",
    "    #wo_bckgrnd_img = []\n",
    "    #for i in img:\n",
    "    #    wo_bckgrnd_img.append(bigfish.stack.remove_background_gaussian(i))\n",
    "    #img = np.array(wo_bckgrnd_img)\n",
    "    \n",
    "    if yes_or_no('Would you like to use a Laplacian operator to determine the Z-slices for the MIP?').lower() == 'y':\n",
    "        zproject = []\n",
    "        for i in range(0, len(img)):\n",
    "            focus = [best_focus_z_slice_id(img[i])-5, best_focus_z_slice_id(img[i])+5]\n",
    "            print(focus)\n",
    "            zproject.append(np.amax(img[i,focus[0]:focus[1],...],axis=0,keepdims=False))\n",
    "            print(np.array(zproject).shape)\n",
    "        zproject = np.array(zproject)\n",
    "    else:\n",
    "        zproject = np.amax(img[:,focus[0]:focus[1],...],axis=1,keepdims=False)\n",
    "        \n",
    "    if yes_or_no('Would you like to use big-fish to determine the in-focus Z-slices for the MIP?').lower() == 'y':\n",
    "        zproject = []\n",
    "        for i in range(0, len(img)):\n",
    "            focus = stack.compute_focus(img[i], neighborhood_size=31)\n",
    "            #z_indices_to_keep = stack.get_in_focus_indices(focus, proportion=20)\n",
    "            zproject.append(stack.in_focus_selection(img[i], focus, proportion=20))\n",
    "        zproject = np.array(zproject)  \n",
    "        \n",
    "    if yes_or_no('Would you like to use a gaussian filter to remove background?').lower() == 'y':\n",
    "        zproject_wobackground = []\n",
    "        for i in range(0, len(zproject)):\n",
    "            zproject_wobackground.append(stack.remove_background_gaussian(zproject[i], sigma=3))\n",
    "        zproject = np.array(zproject_wobackground)\n",
    "        #in_focus_image = stack.in_focus_selection(rna, focus, proportion=nb_to_keep)\n",
    "        #in_focus_image_mip = stack.maximum_projection(in_focus_image)\n",
    "        \n",
    "    if yes_or_no('Would you like to view your MIP in napari?').lower() == 'y':\n",
    "        viewer= napari.Viewer()\n",
    "        viewer.add_image(io.imread(files[1]), name='DIC', opacity=0.30)\n",
    "        for i in range(zproject.shape[0]):\n",
    "            viewer.add_image(zproject[i,...],name=channels[i],colormap=colors[i],opacity=0.60)\n",
    "        "
   ]
  },
  {
   "cell_type": "code",
<<<<<<< HEAD
   "execution_count": 5,
=======
   "execution_count": null,
>>>>>>> fe77a2f (keep changes)
   "id": "a73b7af3",
   "metadata": {},
   "outputs": [
    {
     "name": "stdout",
     "output_type": "stream",
     "text": [
      "\n",
      "\n",
      "!!!\n",
      "Would you like to use a Laplacian operator to determine the Z-slices for the MIP?(y/n)\n",
      "!!!\n",
<<<<<<< HEAD
      "y\n",
      "[14, 24]\n",
      "(1, 2304, 2304)\n",
      "[13, 23]\n",
      "(2, 2304, 2304)\n",
      "[15, 25]\n",
      "(3, 2304, 2304)\n",
      "[18, 28]\n",
      "(4, 2304, 2304)\n",
=======
      "n\n",
>>>>>>> fe77a2f (keep changes)
      "\n",
      "\n",
      "!!!\n",
      "Would you like to use big-fish to determine the in-focus Z-slices for the MIP?(y/n)\n",
      "!!!\n",
<<<<<<< HEAD
      "n\n",
      "\n",
      "\n",
      "!!!\n",
      "Would you like to use a gaussian filter to remove background?(y/n)\n",
      "!!!\n",
      "n\n",
      "\n",
      "\n",
      "!!!\n",
      "Would you like to view your MIP in napari?(y/n)\n",
      "!!!\n",
      "y\n"
     ]
    },
    {
     "name": "stderr",
     "output_type": "stream",
     "text": [
      "WARNING: QWindowsWindow::setGeometry: Unable to set geometry 1280x1104+0+34 (frame: 1302x1160-11-11) on QWidgetWindow/\"_QtMainWindowClassWindow\" on \"\\\\.\\DISPLAY1\". Resulting geometry: 1280x1102+0+34 (frame: 1302x1158-11-11) margins: 11, 45, 11, 11 minimum size: 374x551 MINMAXINFO maxSize=0,0 maxpos=0,0 mintrack=770,1158 maxtrack=0,0)\n"
     ]
=======
      "y\n"
     ]
>>>>>>> fe77a2f (keep changes)
    }
   ],
   "source": [
    "path=\"C:/Users/lotta/Documents/Bioinformatics_Msc/Project/DATA_INITIAL/data/*\"\n",
    "np_mip(path, ['CY5', 'CY3', 'CY3.5', 'DAPI'], ['magenta', 'green', 'cyan', 'blue'])\n"
   ]
  },
  {
   "cell_type": "code",
   "execution_count": null,
   "id": "b87c6a3a",
   "metadata": {},
   "outputs": [],
   "source": [
    "for i in img:\n",
    "    spots, threshold = detection.detect_spots(\n",
    "        images=i, \n",
    "        return_threshold=True, \n",
    "        voxel_size=(200, 64.5, 64.5),  # in nanometer (one value per dimension zyx)\n",
    "        spot_radius=(250, 100, 100))\n",
    "    \n",
    "    \n",
    "plot.plot_detection(rna_mip, spots, contrast=True)\n"
   ]
  },
  {
   "cell_type": "code",
   "execution_count": 99,
   "id": "ec75cb9f",
   "metadata": {},
   "outputs": [],
   "source": [
    "def bigfish_mip(folder, channels, colors):\n",
    "    files=glob(folder)\n",
    "    img = io.imread(files[0], plugin='pil')\n",
    "    img=np.expand_dims(img,1)\n",
    "    img=np.reshape(img,(4,41,2304,2304))\n",
    "    bf_mip = []\n",
    "    for i in img:\n",
    "        bf_mip.append((bigfish.stack.maximum_projection(i)))\n",
    "    bf_mip = np.array(bf_mip)\n",
    "    \n",
    "    viewer= napari.Viewer()\n",
    "    viewer.add_image(io.imread(files[1]), name='DIC', opacity=0.50)\n",
    "    for i in range(bf_mip.shape[0]):\n",
    "        viewer.add_image(bf_mip[i,...],name=channels[i],colormap=colors[i],opacity=0.30)"
   ]
  },
  {
   "cell_type": "code",
   "execution_count": 100,
   "id": "46330710",
   "metadata": {},
   "outputs": [
    {
     "name": "stderr",
     "output_type": "stream",
     "text": [
      "WARNING: QWindowsWindow::setGeometry: Unable to set geometry 1920x1108+0+34 (frame: 1942x1164-11-11) on QWidgetWindow/\"_QtMainWindowClassWindow\" on \"\\\\.\\DISPLAY1\". Resulting geometry: 1920x1102+0+34 (frame: 1942x1158-11-11) margins: 11, 45, 11, 11 minimum size: 374x551 MINMAXINFO maxSize=0,0 maxpos=0,0 mintrack=770,1158 maxtrack=0,0)\n",
      "WARNING: QWindowsWindow::setGeometry: Unable to set geometry 1920x1108+0+34 (frame: 1942x1164-11-11) on QWidgetWindow/\"_QtMainWindowClassWindow\" on \"\\\\.\\DISPLAY1\". Resulting geometry: 1920x974+0+34 (frame: 1942x1030-11-11) margins: 11, 45, 11, 11 minimum size: 374x554 MINMAXINFO maxSize=0,0 maxpos=0,0 mintrack=770,1164 maxtrack=0,0)\n",
      "WARNING: QWindowsWindow::setGeometry: Unable to set geometry 1920x1112+0+34 (frame: 1942x1168-11-11) on QWidgetWindow/\"_QtMainWindowClassWindow\" on \"\\\\.\\DISPLAY1\". Resulting geometry: 1920x974+0+34 (frame: 1942x1030-11-11) margins: 11, 45, 11, 11 minimum size: 374x556 MINMAXINFO maxSize=0,0 maxpos=0,0 mintrack=770,1168 maxtrack=0,0)\n",
      "WARNING: QWindowsWindow::setGeometry: Unable to set geometry 1920x1108+0+34 (frame: 1942x1164-11-11) on QWidgetWindow/\"_QtMainWindowClassWindow\" on \"\\\\.\\DISPLAY1\". Resulting geometry: 1920x974+0+34 (frame: 1942x1030-11-11) margins: 11, 45, 11, 11 minimum size: 374x554 MINMAXINFO maxSize=0,0 maxpos=0,0 mintrack=770,1164 maxtrack=0,0)\n",
      "WARNING: QWindowsWindow::setGeometry: Unable to set geometry 1920x1112+0+34 (frame: 1942x1168-11-11) on QWidgetWindow/\"_QtMainWindowClassWindow\" on \"\\\\.\\DISPLAY1\". Resulting geometry: 1920x974+0+34 (frame: 1942x1030-11-11) margins: 11, 45, 11, 11 minimum size: 374x556 MINMAXINFO maxSize=0,0 maxpos=0,0 mintrack=770,1168 maxtrack=0,0)\n"
     ]
    }
   ],
   "source": [
    "path=\"C:/Users/lotta/Documents/Bioinformatics_Msc/Project/DATA_INITIAL/data/*\"\n",
    "bigfish_mip(path, ['CY5', 'CY3', 'CY3.5', 'DAPI'], ['magenta', 'green', 'cyan', 'blue'])"
   ]
  },
  {
   "cell_type": "code",
   "execution_count": 49,
   "id": "ded23971",
   "metadata": {},
   "outputs": [],
   "source": [
    "channels = ['CY5', 'CY3', 'CY3.5', 'DAPI']\n",
    "colors = ['magenta', 'green', 'cyan', 'blue']\n",
    "#Amsterdam have their channels in a different order\n",
    "#amsterdam_channels=['CY3','CY5','DAPI','CY3.5']\n",
    "#amsterdam_colors=['green','magenta','blue','cyan']"
   ]
  }
 ],
 "metadata": {
  "kernelspec": {
   "display_name": "Python [conda env:mscproject]",
   "language": "python",
   "name": "conda-env-mscproject-py"
  },
  "language_info": {
   "codemirror_mode": {
    "name": "ipython",
    "version": 3
   },
   "file_extension": ".py",
   "mimetype": "text/x-python",
   "name": "python",
   "nbconvert_exporter": "python",
   "pygments_lexer": "ipython3",
   "version": "3.9.16"
  }
 },
 "nbformat": 4,
 "nbformat_minor": 5
}
